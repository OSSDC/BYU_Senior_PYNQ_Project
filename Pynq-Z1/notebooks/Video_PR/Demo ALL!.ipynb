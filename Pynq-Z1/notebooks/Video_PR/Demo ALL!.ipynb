{
 "cells": [
  {
   "cell_type": "markdown",
   "metadata": {},
   "source": [
    "### Run all but the last"
   ]
  },
  {
   "cell_type": "code",
   "execution_count": 1,
   "metadata": {
    "collapsed": true
   },
   "outputs": [],
   "source": [
    "from pynq.drivers.video import HDMI\n",
    "from pynq import Bitstream_Part\n",
    "from pynq.board import Register\n",
    "from pynq import Overlay\n",
    "\n",
    "Overlay(\"demo.bit\").download()\n"
   ]
  },
  {
   "cell_type": "code",
   "execution_count": 2,
   "metadata": {
    "collapsed": true
   },
   "outputs": [],
   "source": [
    "hdmi_in = HDMI('in')\n",
    "hdmi_out = HDMI('out', frame_list=hdmi_in.frame_list)\n",
    "hdmi_out.mode(2)\n",
    "hdmi_out.start()\n",
    "hdmi_in.start()"
   ]
  },
  {
   "cell_type": "code",
   "execution_count": 3,
   "metadata": {
    "collapsed": true
   },
   "outputs": [],
   "source": [
    "R0 =Register(0)\n",
    "R1 =Register(1)\n",
    "R2 =Register(2)\n",
    "R3 =Register(3)\n",
    "R4 =Register(4)\n",
    "R5 =Register(5)\n",
    "R6 =Register(6)\n",
    "R7 =Register(7)\n",
    "R8 =Register(8)\n",
    "R9 =Register(9)\n",
    "R10 =Register(10)\n",
    "R11 =Register(11)\n",
    "R12 =Register(12)\n",
    "R13 =Register(13)\n",
    "R14 =Register(14)\n",
    "R15 =Register(15)\n",
    "R16 =Register(16)\n",
    "R17 =Register(17)\n",
    "R18 =Register(18)\n",
    "R19 =Register(19)\n",
    "R20 =Register(20)\n",
    "R21 =Register(21)\n",
    "R22 =Register(22)\n",
    "R23 =Register(23)\n",
    "R24 =Register(24)"
   ]
  },
  {
   "cell_type": "code",
   "execution_count": 4,
   "metadata": {
    "collapsed": true
   },
   "outputs": [],
   "source": [
    "from IPython.display import clear_output\n",
    "from ipywidgets import Button, HBox, VBox, Label\n",
    "\n",
    "words = ['HDMI Reset','Pass', 'RGB','Box', 'Invert', \n",
    "         'Gscale','Mirror','Edge','Box Blur','Kernel',\n",
    "         'Motion Blur','Duo Tone','256 Tone','Text','Null',\n",
    "         '15','16','17','18','19']\n",
    "items = [Button(description=w) for w in words]\n",
    "\n"
   ]
  },
  {
   "cell_type": "code",
   "execution_count": 5,
   "metadata": {
    "collapsed": true
   },
   "outputs": [],
   "source": [
    "def on_hdmi_clicked(b):\n",
    "    hdmi_out.stop()\n",
    "    hdmi_in.stop()\n",
    "    hdmi_out.start()\n",
    "    hdmi_in.start()\n",
    "\n",
    "items[0].on_click(on_hdmi_clicked)"
   ]
  },
  {
   "cell_type": "code",
   "execution_count": 6,
   "metadata": {
    "collapsed": true
   },
   "outputs": [],
   "source": [
    "def on_pass_clicked(b):\n",
    "    Bitstream_Part(\"pass_p.bit\").download()\n",
    "    R0.write(255)\n",
    "    R1.write(10)\n",
    "    R2.write(255)\n",
    "\n",
    "items[1].on_click(on_pass_clicked)"
   ]
  },
  {
   "cell_type": "code",
   "execution_count": 7,
   "metadata": {
    "collapsed": true
   },
   "outputs": [],
   "source": [
    "def on_rgb_clicked(b):\n",
    "    Bitstream_Part(\"rgb_p.bit\").download()\n",
    "    R0.write(10)   #RED\n",
    "    R1.write(255)  #GREEN\n",
    "    R2.write(255)  #BLUE\n",
    "\n",
    "items[2].on_click(on_rgb_clicked)"
   ]
  },
  {
   "cell_type": "code",
   "execution_count": 8,
   "metadata": {
    "collapsed": true
   },
   "outputs": [],
   "source": [
    "def on_box_clicked(b):\n",
    "    Bitstream_Part(\"lines_p.bit\").download()\n",
    "    R0.write(200)\n",
    "    R1.write(1080)\n",
    "    R2.write(100)\n",
    "    R3.write(620)\n",
    "    R4.write(3)\n",
    "\n",
    "items[3].on_click(on_box_clicked)"
   ]
  },
  {
   "cell_type": "code",
   "execution_count": 9,
   "metadata": {
    "collapsed": true
   },
   "outputs": [],
   "source": [
    "def on_invert_clicked(b):\n",
    "    Bitstream_Part(\"invert_p.bit\").download()\n",
    "\n",
    "items[4].on_click(on_invert_clicked)"
   ]
  },
  {
   "cell_type": "code",
   "execution_count": 10,
   "metadata": {
    "collapsed": true
   },
   "outputs": [],
   "source": [
    "def on_gscale_clicked(b):\n",
    "    Bitstream_Part(\"gscale_p.bit\").download()\n",
    "\n",
    "items[5].on_click(on_gscale_clicked)"
   ]
  },
  {
   "cell_type": "code",
   "execution_count": 11,
   "metadata": {
    "collapsed": true
   },
   "outputs": [],
   "source": [
    "def on_mirror_clicked(b):\n",
    "    Bitstream_Part(\"mirror_p.bit\").download()\n",
    "\n",
    "items[6].on_click(on_mirror_clicked)"
   ]
  },
  {
   "cell_type": "code",
   "execution_count": 12,
   "metadata": {
    "collapsed": true
   },
   "outputs": [],
   "source": [
    "def on_edge_clicked(b):\n",
    "    Bitstream_Part(\"sobel_p.bit\").download()\n",
    "    R0.write(128)\n",
    "    R1.write(1)\n",
    "    R2.write(1)\n",
    "    R3.write(2*hdmi_in.frame_width()//3)\n",
    "    R4.write(0)\n",
    "items[7].on_click(on_edge_clicked)"
   ]
  },
  {
   "cell_type": "code",
   "execution_count": 13,
   "metadata": {
    "collapsed": true
   },
   "outputs": [],
   "source": [
    "def on_box_blue_clicked(b):\n",
    "    Bitstream_Part(\"box_blur_p.bit\").download()\n",
    "\n",
    "items[8].on_click(on_box_blue_clicked)"
   ]
  },
  {
   "cell_type": "code",
   "execution_count": 14,
   "metadata": {
    "collapsed": true
   },
   "outputs": [],
   "source": [
    "def on_kernel_clicked(b):\n",
    "    Bitstream_Part(\"Generic_Filter_p.bit\").download()\n",
    "    R0.write(-1)\n",
    "    R1.write(-1)\n",
    "    R2.write(0)\n",
    "    R3.write(-1)\n",
    "    R4.write(0)\n",
    "    R5.write(1)\n",
    "    R6.write(0)\n",
    "    R7.write(1)\n",
    "    R8.write(1)\n",
    "    R9.write(1)\n",
    "    R10.write(128)\n",
    "    \n",
    "items[9].on_click(on_kernel_clicked)"
   ]
  },
  {
   "cell_type": "code",
   "execution_count": 15,
   "metadata": {
    "collapsed": true
   },
   "outputs": [],
   "source": [
    "def on_motion_blur_clicked(b):\n",
    "    Bitstream_Part(\"motion_p.bit\").download()\n",
    "    R0.write(15)\n",
    "    \n",
    "items[10].on_click(on_motion_blur_clicked)"
   ]
  },
  {
   "cell_type": "code",
   "execution_count": 16,
   "metadata": {
    "collapsed": true
   },
   "outputs": [],
   "source": [
    "def on_duotone_clicked(b):\n",
    "    Bitstream_Part(\"img_overlay_duotone_p.bit\").download()\n",
    "    R0.write(798)\n",
    "    R1.write(320)\n",
    "    R4.write(0x1000000)\n",
    "    R5.write(0xFF8000)\n",
    "    filename = \"./data/giraffe.bin\"\n",
    "    with open(filename, \"rb\") as f:\n",
    "        w = f.read(2)\n",
    "        h = f.read(2)\n",
    "        width = (w[1] << 8) | w[0]\n",
    "        height = (h[1] << 8) | h[0]\n",
    "        R2.write(width)\n",
    "        R3.write(height)\n",
    "        num_pixels = (width*height)/8\n",
    "        for i in range(0, int(num_pixels)-1):\n",
    "            byte = f.read(1)\n",
    "            b = int('{:08b}'.format(byte[0])[::-1], 2)\n",
    "            b = byte[0];\n",
    "            x = (i<<8) | b;\n",
    "            R6.write(x);\n",
    "    \n",
    "items[11].on_click(on_duotone_clicked)"
   ]
  },
  {
   "cell_type": "code",
   "execution_count": 17,
   "metadata": {
    "collapsed": true
   },
   "outputs": [],
   "source": [
    "def on_256tone_clicked(b):\n",
    "    Bitstream_Part(\"img_overlay_256color_p.bit\").download()\n",
    "    R0.write(1040)\n",
    "    R1.write(500)\n",
    "    R4.write(0)\n",
    "    filename = \"./data/cougar_256.bin\"\n",
    "    with open(filename, \"rb\") as f:\n",
    "        width = f.read(1)\n",
    "        height = f.read(1)\n",
    "        R2.write(width[0])\n",
    "        R3.write(height[0])\n",
    "        num_pixels = width[0]*height[0]-1\n",
    "        for i in range(0, num_pixels):\n",
    "            byte = f.read(1)\n",
    "            x = (i<<8) | byte[0];\n",
    "            R5.write(x);\n",
    "    \n",
    "items[12].on_click(on_256tone_clicked)"
   ]
  },
  {
   "cell_type": "code",
   "execution_count": 18,
   "metadata": {
    "collapsed": true
   },
   "outputs": [],
   "source": [
    "def on_text_clicked(b):\n",
    "    Bitstream_Part(\"text_p.bit\").download()\n",
    "    olrd_str = \"orld\"\n",
    "    lo_W_str = \"lo W\"\n",
    "    hel_str = \"Hel\"\n",
    "    olrd = 0\n",
    "    for c in olrd_str:\n",
    "        olrd = olrd << 8\n",
    "        olrd += ord(c)\n",
    "    lo_W = 0\n",
    "    for c in lo_W_str:\n",
    "        lo_W = lo_W << 8\n",
    "        lo_W += ord(c)\n",
    "    hel = 0\n",
    "    for c in hel_str:\n",
    "        hel = hel << 8\n",
    "        hel += ord(c)\n",
    "    R0.write(10)\n",
    "    R1.write(150)\n",
    "    R2.write(1150)\n",
    "    R3.write(12)\n",
    "    R4.write(3)\n",
    "    R5.write(255)\n",
    "    R6.write(255)\n",
    "    R7.write(255)\n",
    "    R8.write(2)\n",
    "    R22.write(hel)\n",
    "    R23.write(lo_W)\n",
    "    R24.write(olrd)\n",
    "    \n",
    "items[13].on_click(on_text_clicked)"
   ]
  },
  {
   "cell_type": "code",
   "execution_count": 19,
   "metadata": {
    "collapsed": false
   },
   "outputs": [],
   "source": [
    "GUI =HBox([VBox([items[0],items[1],items[2],items[3],items[4]]),\n",
    "           VBox([items[5],items[6],items[7],items[8],items[9]]),\n",
    "           VBox([items[10],items[11],items[12],items[13],items[14]])])\n",
    "GUI.layout.justify_content = 'center'\n",
    "GUI"
   ]
  },
  {
   "cell_type": "code",
   "execution_count": null,
   "metadata": {
    "collapsed": false
   },
   "outputs": [],
   "source": [
    "hdmi_in.stop()\n",
    "hdmi_out.stop()\n",
    "del hdmi_in\n",
    "del hdmi_out"
   ]
  }
 ],
 "metadata": {
  "kernelspec": {
   "display_name": "Python 3",
   "language": "python",
   "name": "python3"
  },
  "language_info": {
   "codemirror_mode": {
    "name": "ipython",
    "version": 3
   },
   "file_extension": ".py",
   "mimetype": "text/x-python",
   "name": "python",
   "nbconvert_exporter": "python",
   "pygments_lexer": "ipython3",
   "version": "3.4.3+"
  },
  "widgets": {
   "state": {
    "a7c2854d5fd3426a9452ceb4188451be": {
     "views": [
      {
       "cell_index": 18
      }
     ]
    }
   },
   "version": "1.2.0"
  }
 },
 "nbformat": 4,
 "nbformat_minor": 1
}
